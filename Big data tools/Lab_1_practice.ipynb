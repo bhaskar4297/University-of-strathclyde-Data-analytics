{
 "cells": [
  {
   "cell_type": "code",
   "execution_count": null,
   "id": "7b3873d2",
   "metadata": {},
   "outputs": [],
   "source": [
    "for i in range(51):\n",
    "    if (i==37 or i==16):\n",
    "        continue\n",
    "    print(i,end = ' ')\n",
    "print(i)"
   ]
  },
  {
   "cell_type": "code",
   "execution_count": null,
   "id": "9bf4f525",
   "metadata": {},
   "outputs": [],
   "source": [
    "i = 0\n",
    "while i<=50:\n",
    "    if (i==37 or i==16):\n",
    "        i=i+1\n",
    "        continue\n",
    "    print(i,end=' ')\n",
    "    i=i+1"
   ]
  },
  {
   "cell_type": "markdown",
   "id": "06e58615",
   "metadata": {},
   "source": [
    "Q8 : Write a Python program to count the number of even and odd numbers from a series of numbers. For this reason, you need first to create a list of numbers and then count and display how many even and odd numbers there are in the list."
   ]
  },
  {
   "cell_type": "code",
   "execution_count": 1,
   "id": "a622f17b",
   "metadata": {},
   "outputs": [
    {
     "name": "stdout",
     "output_type": "stream",
     "text": [
      "even numbers: [2, 4, 6, 8, 10, 12]\n",
      "odd numbers: [1, 3, 5, 7, 9, 11]\n"
     ]
    }
   ],
   "source": [
    "list = [1,2,3,4,5,6,7,8,9,10,11,12]\n",
    "odd = []\n",
    "even = []\n",
    "for i in list:\n",
    "    if i%2==0:\n",
    "        even.append(i)\n",
    "    else:\n",
    "        odd.append(i)\n",
    "        \n",
    "print(\"even numbers:\",even)\n",
    "print(\"odd numbers:\", odd)\n",
    "    \n"
   ]
  },
  {
   "cell_type": "markdown",
   "id": "2813aa51",
   "metadata": {},
   "source": [
    "Alternate"
   ]
  },
  {
   "cell_type": "code",
   "execution_count": 2,
   "id": "6cc129f5",
   "metadata": {},
   "outputs": [
    {
     "name": "stdout",
     "output_type": "stream",
     "text": [
      "Number of even numbers: 6\n",
      "Number of odd numbers: 6\n"
     ]
    }
   ],
   "source": [
    "list = [1,2,3,4,5,6,7,8,9,10,11,12]\n",
    "even_count = 0\n",
    "odd_count = 0\n",
    "for i in list:\n",
    "    if i%2==0:\n",
    "        even_count = even_count+1\n",
    "    else:\n",
    "        odd_count = odd_count+1\n",
    "print(\"Number of even numbers:\", even_count)\n",
    "print(\"Number of odd numbers:\", odd_count)"
   ]
  },
  {
   "cell_type": "markdown",
   "id": "897f4a07",
   "metadata": {},
   "source": [
    "Q9 : Modify the solution of the previous question so the list can be generated randomly."
   ]
  },
  {
   "cell_type": "code",
   "execution_count": 3,
   "id": "38cd9575",
   "metadata": {},
   "outputs": [
    {
     "name": "stdout",
     "output_type": "stream",
     "text": [
      "Random list of numbers: [7, 80, 20, 13, 48, 4, 82]\n",
      "Number of even numbers: 5\n",
      "Number of odd numbers: 2\n"
     ]
    }
   ],
   "source": [
    "import random  #this allows you to work with random no.\n",
    "list = [random.randint(1,100) for _ in range(random.randint(1,20))]\n",
    "even_count = 0\n",
    "odd_count = 0\n",
    "\n",
    "for i in list:\n",
    "    if i%2==0:\n",
    "        even_count = even_count+1\n",
    "    else:\n",
    "        odd_count = odd_count+1\n",
    "print(\"Random list of numbers:\", list)\n",
    "print(\"Number of even numbers:\", even_count)\n",
    "print(\"Number of odd numbers:\", odd_count)"
   ]
  },
  {
   "cell_type": "markdown",
   "id": "4bc0795a",
   "metadata": {},
   "source": [
    "#variable \"_\" is a placeholder that conventionally indicates that we are not using the loop variable. It simply means \"for each element in the range\".\n",
    "#in summary, this line of code creates a list of random numbers. The length of the list is randomly determined between 1 and 20, and each element in the list is a random integer between 1 and 100."
   ]
  },
  {
   "cell_type": "markdown",
   "id": "6629a411",
   "metadata": {},
   "source": [
    "Q10 : In mathematics, the Fibonacci sequence is a sequence in which each number is the sum of the two preceding ones. The sequence commonly starts from 0 and 1. Starting from 0 and 1, the first few values in the sequence are: 0, 1, 1, 2, 3, 5, 8, 13, 21, 34, 55, 89, 144, etc.\n",
    "Write a Python program to calculate the first 30 values of the Fibonacci series."
   ]
  },
  {
   "cell_type": "code",
   "execution_count": null,
   "id": "4ee7f44c",
   "metadata": {},
   "outputs": [],
   "source": [
    "Sol : \n",
    "Fibonacci Sequence is represented by this formula: F(n) = F(n-1) + F(n-2), where n > 1."
   ]
  },
  {
   "cell_type": "code",
   "execution_count": 4,
   "id": "28c2ced0",
   "metadata": {},
   "outputs": [
    {
     "name": "stdout",
     "output_type": "stream",
     "text": [
      "0,1,1,2,3,5,8,13,21,34,55,89,144,233,377,610,987,1597,2584,4181,6765,10946,17711,28657,46368,75025,121393,196418,317811,514229,"
     ]
    }
   ],
   "source": [
    "a= 0\n",
    "b= 1\n",
    "sum=0\n",
    "for i in range(0,30):\n",
    "    print(sum, end=',')\n",
    "    a=b\n",
    "    b=sum\n",
    "    sum=a+b\n",
    "    \n"
   ]
  },
  {
   "cell_type": "code",
   "execution_count": null,
   "id": "9fefc9a6",
   "metadata": {},
   "outputs": [],
   "source": []
  }
 ],
 "metadata": {
  "kernelspec": {
   "display_name": "Python 3 (ipykernel)",
   "language": "python",
   "name": "python3"
  },
  "language_info": {
   "codemirror_mode": {
    "name": "ipython",
    "version": 3
   },
   "file_extension": ".py",
   "mimetype": "text/x-python",
   "name": "python",
   "nbconvert_exporter": "python",
   "pygments_lexer": "ipython3",
   "version": "3.11.4"
  }
 },
 "nbformat": 4,
 "nbformat_minor": 5
}
